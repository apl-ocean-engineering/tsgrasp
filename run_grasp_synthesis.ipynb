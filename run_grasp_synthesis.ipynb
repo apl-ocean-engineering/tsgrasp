{
 "cells": [
  {
   "cell_type": "markdown",
   "metadata": {},
   "source": [
    "## Outside of the Container:"
   ]
  },
  {
   "cell_type": "code",
   "execution_count": 2,
   "metadata": {},
   "outputs": [
    {
     "name": "stdout",
     "output_type": "stream",
     "text": [
      "Jupyter environment detected. Enabling Open3D WebVisualizer.\n",
      "[Open3D INFO] WebRTC GUI backend enabled.\n",
      "[Open3D INFO] WebRTCWindowSystem: HTTP handshake server disabled.\n"
     ]
    }
   ],
   "source": [
    "import numpy as np\n",
    "import open3d as o3d\n",
    "import matplotlib.pyplot as plt\n",
    "import os\n",
    "import shutil"
   ]
  },
  {
   "cell_type": "code",
   "execution_count": 3,
   "metadata": {},
   "outputs": [],
   "source": [
    "def cropped_pc_from_bounds(pts: np.array, min_bounds: np.array, max_bounds: np.array):\n",
    "    \"\"\"\n",
    "    Bounds a point cloud to a specified world boundary.\n",
    "\n",
    "    Args:\n",
    "      pts: A numpy array of shape (N, 3) representing the point cloud.\n",
    "      min_bounds: A numpy array of shape (1, 3) representing the world bounds [x, y, z]\n",
    "      max_bounds: A numpy array of shape (1, 3) representing the world bounds [x, y, z]\n",
    "\n",
    "    Returns:\n",
    "      A numpy array of shape (M, 3) representing the bounded point cloud,\n",
    "      or None if no points remain within the bounds.\n",
    "    \"\"\"\n",
    "\n",
    "    # Apply boolean mask to filter points within bounds\n",
    "    valid = (\n",
    "        (pts[:, 0] >= min_bounds[0])\n",
    "        & (pts[:, 0] <= max_bounds[0])\n",
    "        & (pts[:, 1] >= min_bounds[1])\n",
    "        & (pts[:, 1] <= max_bounds[1])\n",
    "        & (pts[:, 2] >= min_bounds[2])\n",
    "        & (pts[:, 2] <= max_bounds[2])\n",
    "    )\n",
    "    pts_filtered = pts[valid]\n",
    "\n",
    "    # Check if any points remain\n",
    "    if not np.any(valid):\n",
    "        print(\"no valid points\")\n",
    "        return None\n",
    "\n",
    "    return pts_filtered\n",
    "\n",
    "\n",
    "def crop_ply(file_key, bbox_dict, do_crop=True):\n",
    "    if file_key not in bbox_dict:\n",
    "        print(\"wrong file name\")\n",
    "        return\n",
    "    file_path = bbox_dict[file_key][\"path\"]\n",
    "    pcd = o3d.io.read_point_cloud(file_path)\n",
    "\n",
    "    if do_crop:\n",
    "        centroid = bbox_dict[file_key][\"centroid\"]\n",
    "        dims = bbox_dict[file_key][\"dims\"]\n",
    "        # Crop the point cloud\n",
    "        min_bounds = [c - size / 2 for (c, size) in zip(centroid, dims)]\n",
    "        max_bounds = [c + size / 2 for (c, size) in zip(centroid, dims)]\n",
    "\n",
    "    else:\n",
    "        centroid = pcd.get_center()\n",
    "        min_bounds = pcd.get_min_bound()\n",
    "        max_bounds = pcd.get_max_bound()\n",
    "\n",
    "    filename = os.path.basename(file_path)\n",
    "    name, _ = os.path.splitext(filename)\n",
    "\n",
    "    directory = os.path.dirname(file_path)\n",
    "\n",
    "    cropped_pc_path = os.path.join(directory, f\"{name}.ply\")\n",
    "    cropped_pc_np_path = os.path.join(directory, f\"{name}.npy\")\n",
    "\n",
    "    bbox_dict[file_key][\"name\"] = name\n",
    "    bbox_dict[file_key][\"np_path\"] = cropped_pc_np_path\n",
    "    bbox_dict[file_key][\"cropped_path\"] = cropped_pc_path\n",
    "\n",
    "    xyz_min = np.minimum(min_bounds, max_bounds)\n",
    "    xyz_max = np.maximum(min_bounds, max_bounds)\n",
    "\n",
    "    cropped_point_cloud = pcd.crop(\n",
    "        o3d.geometry.AxisAlignedBoundingBox(min_bound=xyz_min, max_bound=xyz_max)\n",
    "    )\n",
    "\n",
    "    # Save the cropped pc with color:\n",
    "    o3d.io.write_point_cloud(cropped_pc_path, cropped_point_cloud)\n",
    "\n",
    "    # Save just the points as a np file for\n",
    "    print(np.asarray(cropped_point_cloud.points).shape)\n",
    "    np.save(cropped_pc_np_path, np.asarray(cropped_point_cloud.points))\n",
    "\n",
    "    print(\"Saved both np and ply files!\")\n",
    "    return bbox_dict\n",
    "\n",
    "\n",
    "def pc_from_np_array(pc_confs):\n",
    "    # Create PointCloud object\n",
    "    point_cloud = o3d.geometry.PointCloud()\n",
    "    points = np.zeros((len(pc_confs), 3))\n",
    "    points[:, 0] = pc_confs[\"x\"]\n",
    "    points[:, 1] = pc_confs[\"y\"]\n",
    "    points[:, 2] = pc_confs[\"z\"]\n",
    "    point_cloud.points = o3d.utility.Vector3dVector(points)\n",
    "\n",
    "    colors = np.zeros((len(pc_confs), 3))\n",
    "    colors[:, 0] = pc_confs[\"r\"]\n",
    "    colors[:, 1] = pc_confs[\"g\"]\n",
    "    colors[:, 2] = pc_confs[\"b\"]\n",
    "    point_cloud.colors = o3d.utility.Vector3dVector(colors)\n",
    "\n",
    "    return point_cloud"
   ]
  },
  {
   "cell_type": "code",
   "execution_count": 4,
   "metadata": {},
   "outputs": [
    {
     "name": "stdout",
     "output_type": "stream",
     "text": [
      "(13964, 3)\n",
      "Saved both np and ply files!\n",
      "(20700, 3)\n",
      "Saved both np and ply files!\n",
      "(41615, 3)\n",
      "Saved both np and ply files!\n"
     ]
    }
   ],
   "source": [
    "bbox_dict = {\n",
    "    \"real_kettlebell\": {\"path\": \"/home/mmicatka/Downloads/fused_ply_real.ply\"},\n",
    "    \"sim_kettlebell\": {\"path\": \"/home/mmicatka/Downloads/fused_ply.ply\"},\n",
    "    \"sim_kettlebell_2\": {\"path\": \"/home/mmicatka/Downloads/fused_ply_new.ply\"},\n",
    "}\n",
    "\n",
    "\n",
    "bbox_dict = crop_ply(\"real_kettlebell\", bbox_dict, do_crop=False)\n",
    "bbox_dict = crop_ply(\"sim_kettlebell\", bbox_dict, do_crop=False)\n",
    "bbox_dict = crop_ply(\"sim_kettlebell_2\", bbox_dict, do_crop=False)\n",
    "\n",
    "# copy files into tsgrasp dir\n",
    "pc_dir = \"/home/mmicatka/Documents/raven_manipulation/src/grasp_synthesis/src/grasp_synthesis/tsgrasp/test_pointclouds\"\n",
    "\n",
    "for k, v in bbox_dict.items():\n",
    "    name = v[\"name\"]\n",
    "    try:\n",
    "        shutil.copy(v[\"np_path\"], pc_dir)\n",
    "    except Exception as ex:\n",
    "        print(ex)\n",
    "\n",
    "    try:\n",
    "        # these doesn't exist yet, but create the entry:\n",
    "        v[\"pc_confs_path_np\"] = os.path.join(pc_dir, f\"{name}_confs.npy\")\n",
    "        v[\"grasps_path\"] = os.path.join(pc_dir, f\"{name}_grasps.npy\")\n",
    "        v[\"pc_confs_path\"] = os.path.join(pc_dir, f\"{name}_confs.ply\")\n",
    "\n",
    "    except Exception as ex:\n",
    "        print(ex)"
   ]
  },
  {
   "cell_type": "markdown",
   "metadata": {},
   "source": [
    "## In Container"
   ]
  },
  {
   "cell_type": "markdown",
   "metadata": {},
   "source": [
    "```bash\n",
    "(from inside /nodes)\n",
    "./run.sh\n",
    "\n",
    "# Inside container:\n",
    "cd grasp_synth_ws/src/grasp_synthesis/src/grasp_synthesis/tsgrasp/\n",
    "jupyter notebook --ip 0.0.0.0  --allow-root\n",
    "```"
   ]
  },
  {
   "cell_type": "code",
   "execution_count": 18,
   "metadata": {},
   "outputs": [
    {
     "name": "stdout",
     "output_type": "stream",
     "text": [
      "done\n"
     ]
    }
   ],
   "source": [
    "# Standard Library\n",
    "import numpy as np\n",
    "import torch\n",
    "\n",
    "assert torch.cuda.is_available(), \"cant access cuda. yikes\"\n",
    "from predict_grasps import GraspPredictor\n",
    "import yaml\n",
    "import os\n",
    "\n",
    "\n",
    "def model_metadata_from_yaml(yaml_file_path: str) -> dict:\n",
    "    metadata = {}\n",
    "    try:\n",
    "        with open(yaml_file_path, \"r\", encoding=\"utf-8\") as stream:\n",
    "            metadata = yaml.safe_load(stream)\n",
    "    except yaml.YAMLError as exc:\n",
    "        print(exc)\n",
    "    return metadata\n",
    "\n",
    "\n",
    "# Create the predictor:\n",
    "pkg_root = \"/grasp_synth/grasp_synth_ws/src/grasp_synthesis/\"\n",
    "model_metadata = model_metadata_from_yaml(\n",
    "    os.path.join(os.getcwd(), \"models/tsgrasp_scene_1_frame/metadata.yaml\")\n",
    ")\n",
    "model_path = os.path.join(pkg_root, model_metadata[\"ckpt_path\"])\n",
    "grasp_predictor = GraspPredictor(model_metadata, False, pkg_root)\n",
    "print(\"done\")"
   ]
  },
  {
   "cell_type": "code",
   "execution_count": 19,
   "metadata": {},
   "outputs": [
    {
     "name": "stdout",
     "output_type": "stream",
     "text": [
      "working on /grasp_synth/grasp_synth_ws/src/grasp_synthesis/src/grasp_synthesis/tsgrasp/test_pointclouds/fused_ply_new.npy\n",
      "(41615, 3)\n",
      "Grasp Results: 20807\n",
      "working on /grasp_synth/grasp_synth_ws/src/grasp_synthesis/src/grasp_synthesis/tsgrasp/test_pointclouds/fused_ply.npy\n",
      "(20700, 3)\n",
      "Grasp Results: 10350\n",
      "working on /grasp_synth/grasp_synth_ws/src/grasp_synthesis/src/grasp_synthesis/tsgrasp/test_pointclouds/fused_ply_real.npy\n",
      "(13964, 3)\n",
      "Grasp Results: 6982\n"
     ]
    }
   ],
   "source": [
    "# Load the points:\n",
    "pc_dir = os.path.join(os.getcwd(), \"test_pointclouds\")\n",
    "files = os.listdir(pc_dir)\n",
    "npy_files = [file for file in files if file.endswith(\".npy\")]\n",
    "\n",
    "grasp_dict = {}\n",
    "for file in npy_files:\n",
    "    key = os.path.splitext(file)[0]\n",
    "\n",
    "    # Load the points\n",
    "    full_file_name = os.path.join(pc_dir, file)\n",
    "    cropped_points = np.load(full_file_name)\n",
    "    # Run the detector:\n",
    "    (grasps_array, cm_array) = grasp_predictor.detect(cropped_points)\n",
    "    print(f\"working on {full_file_name}\")\n",
    "    print(cropped_points.shape)\n",
    "    print(f\"Grasp Results: {len(grasps_array)}\")\n",
    "\n",
    "    # save the points\n",
    "    filename = os.path.join(pc_dir, f\"{key}_confs.npy\")\n",
    "    np.save(filename, cm_array)\n",
    "\n",
    "    # # Save the conf array:\n",
    "    filename = os.path.join(pc_dir, f\"{key}_grasps.npy\")\n",
    "    confs = grasps_array[\"confidences\"]\n",
    "    np.save(filename, confs)"
   ]
  },
  {
   "cell_type": "markdown",
   "metadata": {},
   "source": [
    "## Outside the Container\n"
   ]
  },
  {
   "cell_type": "code",
   "execution_count": 7,
   "metadata": {},
   "outputs": [
    {
     "name": "stdout",
     "output_type": "stream",
     "text": [
      "real_kettlebell\n",
      "(6982, 7)\n",
      "sim_kettlebell\n",
      "(10350, 7)\n",
      "sim_kettlebell_2\n",
      "(20807, 7)\n"
     ]
    }
   ],
   "source": [
    "grasps = []\n",
    "for k, v in bbox_dict.items():\n",
    "    print(k)\n",
    "    # load the pc_conf\n",
    "    pc_confs_path = v[\"pc_confs_path_np\"]\n",
    "    pc_confs = np.load(pc_confs_path)\n",
    "    print(pc_confs.shape)\n",
    "    # pcd = pc_from_np_array(pc_confs)\n",
    "\n",
    "    # # Write the pointcloud as a ply:\n",
    "    # print(np.asarray(pcd.points).shape)\n",
    "    # o3d.io.write_point_cloud(v[\"pc_confs_path\"], pcd)\n",
    "\n",
    "    # # load grasps\n",
    "    # grasps_path = v[\"grasps_path\"]\n",
    "    # grasp_array = np.load(grasps_path)\n",
    "    # grasp_array = grasp_array[grasp_array >= 0.1]\n",
    "\n",
    "    # plt.style.use(\"fivethirtyeight\")\n",
    "    # plt.hist(grasp_array, bins=30, edgecolor=\"black\")\n",
    "\n",
    "    # # Add labels and title\n",
    "    # plt.xlabel(\"Confidence [0.1 - 1]\")\n",
    "    # plt.ylabel(\"Frequency\")\n",
    "    # plt.title(f\"{k} - Grasp Confidences\")\n",
    "\n",
    "    # # Show plot\n",
    "    # plt.show()"
   ]
  }
 ],
 "metadata": {
  "kernelspec": {
   "display_name": "Python 3 (ipykernel)",
   "language": "python",
   "name": "python3"
  },
  "language_info": {
   "codemirror_mode": {
    "name": "ipython",
    "version": 3
   },
   "file_extension": ".py",
   "mimetype": "text/x-python",
   "name": "python",
   "nbconvert_exporter": "python",
   "pygments_lexer": "ipython3",
   "version": "3.9.15"
  }
 },
 "nbformat": 4,
 "nbformat_minor": 4
}
