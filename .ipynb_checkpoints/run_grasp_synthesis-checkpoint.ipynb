{
 "cells": [
  {
   "cell_type": "markdown",
   "metadata": {
    "jp-MarkdownHeadingCollapsed": true
   },
   "source": [
    "## Outside of the Container:"
   ]
  },
  {
   "cell_type": "code",
   "execution_count": 1,
   "metadata": {},
   "outputs": [
    {
     "name": "stdout",
     "output_type": "stream",
     "text": [
      "Jupyter environment detected. Enabling Open3D WebVisualizer.\n",
      "[Open3D INFO] WebRTC GUI backend enabled.\n",
      "[Open3D INFO] WebRTCWindowSystem: HTTP handshake server disabled.\n"
     ]
    }
   ],
   "source": [
    "import numpy as np\n",
    "import open3d as o3d\n",
    "import matplotlib.pyplot as plt\n",
    "import os\n",
    "import shutil"
   ]
  },
  {
   "cell_type": "code",
   "execution_count": 8,
   "metadata": {},
   "outputs": [],
   "source": [
    "def cropped_pc_from_bounds(pts: np.array, min_bounds: np.array, max_bounds: np.array):\n",
    "    \"\"\"\n",
    "    Bounds a point cloud to a specified world boundary.\n",
    "\n",
    "    Args:\n",
    "      pts: A numpy array of shape (N, 3) representing the point cloud.\n",
    "      min_bounds: A numpy array of shape (1, 3) representing the world bounds [x, y, z]\n",
    "      max_bounds: A numpy array of shape (1, 3) representing the world bounds [x, y, z]\n",
    "\n",
    "    Returns:\n",
    "      A numpy array of shape (M, 3) representing the bounded point cloud,\n",
    "      or None if no points remain within the bounds.\n",
    "    \"\"\"\n",
    "\n",
    "    # Apply boolean mask to filter points within bounds\n",
    "    valid = (\n",
    "        (pts[:, 0] >= min_bounds[0])\n",
    "        & (pts[:, 0] <= max_bounds[0])\n",
    "        & (pts[:, 1] >= min_bounds[1])\n",
    "        & (pts[:, 1] <= max_bounds[1])\n",
    "        & (pts[:, 2] >= min_bounds[2])\n",
    "        & (pts[:, 2] <= max_bounds[2])\n",
    "    )\n",
    "    pts_filtered = pts[valid]\n",
    "\n",
    "    # Check if any points remain\n",
    "    if not np.any(valid):\n",
    "        print(\"no valid points\")\n",
    "        return None\n",
    "\n",
    "    return pts_filtered\n",
    "\n",
    "def crop_ply(file_key, bbox_dict, do_crop=True):\n",
    "  if file_key not in bbox_dict:\n",
    "    print('wrong file name')\n",
    "    return\n",
    "  file_path = bbox_dict[file_key]['path']\n",
    "  pcd = o3d.io.read_point_cloud(file_path)\n",
    "\n",
    "  if do_crop:\n",
    "    centroid = bbox_dict[file_key]['centroid']\n",
    "    dims = bbox_dict[file_key]['dims']\n",
    "    # Crop the point cloud\n",
    "    min_bounds = [c - size/2 for (c, size) in zip(centroid, dims)]\n",
    "    max_bounds = [c + size/2 for (c, size) in zip(centroid, dims)]\n",
    "\n",
    "  else:\n",
    "    centroid = pcd.get_center()\n",
    "    min_bounds = pcd.get_min_bound()\n",
    "    max_bounds = pcd.get_max_bound()\n",
    "\n",
    "\n",
    "  filename = os.path.basename(file_path)\n",
    "  name, _ = os.path.splitext(filename)\n",
    "\n",
    "  directory = os.path.dirname(file_path)\n",
    "\n",
    "  cropped_pc_path = os.path.join(directory, f'{name}_cropped.ply')\n",
    "  cropped_pc_np_path = os.path.join(directory, f'{name}_cropped.npy')\n",
    "\n",
    "  bbox_dict[file_key]['name'] = name\n",
    "  bbox_dict[file_key]['np_path'] = cropped_pc_np_path\n",
    "  bbox_dict[file_key]['cropped_path'] = cropped_pc_path\n",
    "\n",
    "\n",
    "  xyz_min = np.minimum(min_bounds, max_bounds)\n",
    "  xyz_max = np.maximum(min_bounds, max_bounds)\n",
    "\n",
    "\n",
    "  cropped_point_cloud = pcd.crop(\n",
    "    o3d.geometry.AxisAlignedBoundingBox(min_bound=xyz_min, max_bound=xyz_max)\n",
    "  )\n",
    "\n",
    "  # Save the cropped pc with color:\n",
    "  o3d.io.write_point_cloud(cropped_pc_path, cropped_point_cloud)\n",
    "\n",
    "  # Save just the points as a np file for\n",
    "  print(np.asarray(cropped_point_cloud.points).shape)\n",
    "  np.save(cropped_pc_np_path, np.asarray(cropped_point_cloud.points))\n",
    "\n",
    "  print(\"Saved both np and ply files!\")\n",
    "  return bbox_dict\n",
    "\n",
    "def pc_from_np_array(pc_confs):\n",
    "    # Create PointCloud object\n",
    "  point_cloud = o3d.geometry.PointCloud()\n",
    "  points = np.zeros((len(pc_confs), 3))\n",
    "  points[:, 0] = pc_confs['x']\n",
    "  points[:, 1] = pc_confs['y']\n",
    "  points[:, 2] = pc_confs['z']\n",
    "  point_cloud.points = o3d.utility.Vector3dVector(points)\n",
    "\n",
    "\n",
    "  colors = np.zeros((len(pc_confs), 3))\n",
    "  colors[:, 0] = pc_confs['r']\n",
    "  colors[:, 1] = pc_confs['g']\n",
    "  colors[:, 2] = pc_confs['b']\n",
    "  point_cloud.colors = o3d.utility.Vector3dVector(colors)\n",
    "\n",
    "  return point_cloud"
   ]
  },
  {
   "cell_type": "code",
   "execution_count": 9,
   "metadata": {},
   "outputs": [
    {
     "name": "stdout",
     "output_type": "stream",
     "text": [
      "(3892, 3)\n",
      "Saved both np and ply files!\n",
      "(14102, 3)\n",
      "Saved both np and ply files!\n",
      "'/home/mmicatka/Documents/raven_manipulation/src/grasp_synthesis/src/grasp_synthesis/tsgrasp/test_pointclouds/B_90s_rtabmap_cropped.npy' and '/home/mmicatka/Documents/raven_manipulation/src/grasp_synthesis/src/grasp_synthesis/tsgrasp/test_pointclouds/B_90s_rtabmap_cropped.npy' are the same file\n",
      "'/home/mmicatka/Documents/raven_manipulation/src/grasp_synthesis/src/grasp_synthesis/tsgrasp/test_pointclouds/B_90s_stereo_cropped.npy' and '/home/mmicatka/Documents/raven_manipulation/src/grasp_synthesis/src/grasp_synthesis/tsgrasp/test_pointclouds/B_90s_stereo_cropped.npy' are the same file\n"
     ]
    }
   ],
   "source": [
    "# bbox_dict = {\"B_rtab\":\n",
    "#             {\"path\": \"/home/mmicatka/Documents/raven_manipulation/src/grasp_synthesis/src/grasp_synthesis/tsgrasp/test_pointclouds/B_90s_rtabmap.ply\",\n",
    "#              \"centroid\": [-0.00470451, 0.02, 0.43373715],\n",
    "#             \"dims\": [0.15, 0.13, 0.15]},\n",
    "#             \"B_stereo\":\n",
    "#             {\"path\": \"/home/mmicatka/Documents/raven_manipulation/src/grasp_synthesis/src/grasp_synthesis/tsgrasp/test_pointclouds/B_90s_stereo.ply\",\n",
    "#              \"centroid\": [0.767615, -0.15350854, 0.33755865],\n",
    "#             \"dims\": [0.15, 0.16, 0.15]}}\n",
    "bbox_dict = {\"B_rtab\":\n",
    "            {\"path\": \"/home/mmicatka/Documents/raven_manipulation/src/grasp_synthesis/src/grasp_synthesis/tsgrasp/test_pointclouds/B_90s_rtabmap.ply\"},\n",
    "            \"B_stereo\":\n",
    "            {\"path\": \"/home/mmicatka/Documents/raven_manipulation/src/grasp_synthesis/src/grasp_synthesis/tsgrasp/test_pointclouds/B_90s_stereo.ply\"}}\n",
    "bbox_dict = crop_ply(\"B_rtab\", bbox_dict, do_crop=False)\n",
    "bbox_dict = crop_ply(\"B_stereo\", bbox_dict, do_crop=False)\n",
    "\n",
    "# copy files into tsgrasp dir\n",
    "pc_dir = \"/home/mmicatka/Documents/raven_manipulation/src/grasp_synthesis/src/grasp_synthesis/tsgrasp/test_pointclouds\"\n",
    "\n",
    "for k, v in bbox_dict.items():\n",
    "    try:\n",
    "        shutil.copy(v[\"np_path\"], pc_dir)\n",
    "        name = v[\"name\"]\n",
    "\n",
    "         # these doesn't exist yet, but create the entry:\n",
    "        v['pc_confs_path_np'] = os.path.join(pc_dir, f'{name}_cropped_confs.npy')\n",
    "        v['grasps_path'] = os.path.join(pc_dir, f'{name}_cropped_grasps.npy')\n",
    "        v['pc_confs_path'] = os.path.join(pc_dir, f'{name}_cropped_confs.ply')\n",
    "\n",
    "    except Exception as ex:\n",
    "        print(ex)"
   ]
  },
  {
   "cell_type": "code",
   "execution_count": 6,
   "metadata": {},
   "outputs": [
    {
     "name": "stdout",
     "output_type": "stream",
     "text": [
      "center: [ 2.13456533 -0.10127896  0.60338978]\n",
      "max: [5.45461559 3.4542129  4.17021513]\n",
      "min: [ 0.26422286 -3.65184212 -0.20542109]\n",
      "\n",
      "center: [0.83515375 0.14089649 0.68181324]\n",
      "max: [0.99999678 0.95386666 0.99999934]\n",
      "min: [ 0.26422286 -0.99796349 -0.20542109]\n"
     ]
    },
    {
     "data": {
      "text/plain": [
       "True"
      ]
     },
     "execution_count": 6,
     "metadata": {},
     "output_type": "execute_result"
    }
   ],
   "source": [
    "input_path = \"/home/mmicatka/Documents/point_clouds/files/pointclouds/B_90s.ply\"\n",
    "output_path = \"/home/mmicatka/Documents/point_clouds/files/pointclouds/B_90s_clipped.ply\"\n",
    "pcd = o3d.io.read_point_cloud(input_path)\n",
    "\n",
    "print(f\"center: {pcd.get_center()}\")\n",
    "print(f\"max: {pcd.get_max_bound()}\")\n",
    "print(f\"min: {pcd.get_min_bound()}\")\n",
    "print()\n",
    "\n",
    "cropped_pc = pcd.crop(\n",
    "o3d.geometry.AxisAlignedBoundingBox(min_bound=[0, -1, -1], max_bound=[1, 1, 1]))\n",
    "print(f\"center: {cropped_pc.get_center()}\")\n",
    "print(f\"max: {cropped_pc.get_max_bound()}\")\n",
    "print(f\"min: {cropped_pc.get_min_bound()}\")\n",
    "\n",
    "# # Save the cropped pc with color:\n",
    "o3d.io.write_point_cloud(output_path, cropped_pc)\n"
   ]
  },
  {
   "cell_type": "code",
   "execution_count": 6,
   "metadata": {},
   "outputs": [
    {
     "name": "stdout",
     "output_type": "stream",
     "text": [
      "A_stereo\n",
      "   path /home/mmicatka/Documents/point_clouds/files/pointclouds/a_pc.ply\n",
      "   centroid [-0.00470451, 0.02, 0.43373715]\n",
      "   dims [0.15, 0.13, 0.15]\n",
      "A_300s\n",
      "   path /home/mmicatka/Documents/point_clouds/files/pointclouds/A_300s_cropped.ply\n",
      "   centroid [0.767615, -0.15350854, 0.33755865]\n",
      "   dims [0.15, 0.16, 0.15]\n",
      "   name A_300s_cropped\n",
      "   np_path /home/mmicatka/Documents/point_clouds/files/pointclouds/A_300s_cropped_cropped.npy\n",
      "   cropped_path /home/mmicatka/Documents/point_clouds/files/pointclouds/A_300s_cropped_cropped.ply\n",
      "   pc_confs_path_np /home/mmicatka/Documents/raven_manipulation/src/grasp_synthesis/src/grasp_synthesis/tsgrasp/test_pointclouds/A_300s_cropped_cropped_confs.npy\n",
      "   grasps_path /home/mmicatka/Documents/raven_manipulation/src/grasp_synthesis/src/grasp_synthesis/tsgrasp/test_pointclouds/A_300s_cropped_cropped_grasps.npy\n",
      "   pc_confs_path /home/mmicatka/Documents/raven_manipulation/src/grasp_synthesis/src/grasp_synthesis/tsgrasp/test_pointclouds/A_300s_cropped_cropped_confs.ply\n"
     ]
    }
   ],
   "source": [
    "for k, v in bbox_dict.items():\n",
    "    print(k)\n",
    "    for ki, vi in v.items():\n",
    "        print(\"  \", ki, vi)"
   ]
  },
  {
   "cell_type": "markdown",
   "metadata": {},
   "source": [
    "## In Container"
   ]
  },
  {
   "cell_type": "code",
   "execution_count": 98,
   "metadata": {},
   "outputs": [
    {
     "data": {
      "text/plain": [
       "'\\n(in /nodes)\\n`./run.sh`\\n\\nInside container:\\ncd grasp_synth_ws/src/grasp_synthesis/src/grasp_synthesis/tsgrasp/\\njupyter notebook --ip 0.0.0.0  --allow-root\\n'"
      ]
     },
     "execution_count": 98,
     "metadata": {},
     "output_type": "execute_result"
    }
   ],
   "source": [
    "'''\n",
    "(in /nodes)\n",
    "`./run.sh`\n",
    "\n",
    "Inside container:\n",
    "cd grasp_synth_ws/src/grasp_synthesis/src/grasp_synthesis/tsgrasp/\n",
    "jupyter notebook --ip 0.0.0.0  --allow-root\n",
    "'''"
   ]
  },
  {
   "cell_type": "code",
   "execution_count": 1,
   "metadata": {},
   "outputs": [],
   "source": [
    "# Standard Library\n",
    "import numpy as np\n",
    "import torch\n",
    "assert torch.cuda.is_available(), \"cant access cuda. yikes\"\n",
    "from predict_grasps import GraspPredictor\n",
    "import yaml\n",
    "import os\n",
    "\n",
    "def model_metadata_from_yaml(yaml_file_path: str) -> dict:\n",
    "    metadata = {}\n",
    "    try:\n",
    "        with open(yaml_file_path, \"r\", encoding=\"utf-8\") as stream:\n",
    "            metadata = yaml.safe_load(stream)\n",
    "    except yaml.YAMLError as exc:\n",
    "        print(exc)\n",
    "    return metadata\n",
    "\n",
    "# Create the predictor:\n",
    "pkg_root = \"/grasp_synth/grasp_synth_ws/src/grasp_synthesis/\"\n",
    "model_metadata = model_metadata_from_yaml(os.path.join(os.getcwd(), \"models/tsgrasp_scene_1_frame/metadata.yaml\"))\n",
    "model_path = os.path.join(pkg_root, model_metadata[\"ckpt_path\"])\n",
    "grasp_predictor = GraspPredictor(model_metadata, False, pkg_root)\n",
    "print('done')"
   ]
  },
  {
   "cell_type": "code",
   "execution_count": 8,
   "metadata": {},
   "outputs": [
    {
     "name": "stdout",
     "output_type": "stream",
     "text": [
      "working on /grasp_synth/grasp_synth_ws/src/grasp_synthesis/src/grasp_synthesis/tsgrasp/test_pointclouds/a_pc_cropped.npy\n",
      "(43642, 3)\n",
      "500 (5456,)\n",
      "working on /grasp_synth/grasp_synth_ws/src/grasp_synthesis/src/grasp_synthesis/tsgrasp/test_pointclouds/a_rtab_pc_cropped.npy\n",
      "(0, 3)\n"
     ]
    },
    {
     "ename": "TypeError",
     "evalue": "object of type 'NoneType' has no len()",
     "output_type": "error",
     "traceback": [
      "\u001b[0;31m---------------------------------------------------------------------------\u001b[0m",
      "\u001b[0;31mTypeError\u001b[0m                                 Traceback (most recent call last)",
      "Cell \u001b[0;32mIn[8], line 20\u001b[0m\n\u001b[1;32m     18\u001b[0m \u001b[38;5;28mprint\u001b[39m(\u001b[38;5;124mf\u001b[39m\u001b[38;5;124m'\u001b[39m\u001b[38;5;124mworking on \u001b[39m\u001b[38;5;132;01m{\u001b[39;00mfull_file_name\u001b[38;5;132;01m}\u001b[39;00m\u001b[38;5;124m'\u001b[39m)\n\u001b[1;32m     19\u001b[0m \u001b[38;5;28mprint\u001b[39m(cropped_points\u001b[38;5;241m.\u001b[39mshape)\n\u001b[0;32m---> 20\u001b[0m \u001b[38;5;28mprint\u001b[39m(\u001b[38;5;28;43mlen\u001b[39;49m\u001b[43m(\u001b[49m\u001b[43mgrasps\u001b[49m\u001b[43m)\u001b[49m, pc_confs\u001b[38;5;241m.\u001b[39mshape)\n\u001b[1;32m     22\u001b[0m \u001b[38;5;66;03m# save the points\u001b[39;00m\n\u001b[1;32m     23\u001b[0m filename \u001b[38;5;241m=\u001b[39m os\u001b[38;5;241m.\u001b[39mpath\u001b[38;5;241m.\u001b[39mjoin(pc_dir, \u001b[38;5;124mf\u001b[39m\u001b[38;5;124m\"\u001b[39m\u001b[38;5;132;01m{\u001b[39;00mkey\u001b[38;5;132;01m}\u001b[39;00m\u001b[38;5;124m_confs.npy\u001b[39m\u001b[38;5;124m\"\u001b[39m)\n",
      "\u001b[0;31mTypeError\u001b[0m: object of type 'NoneType' has no len()"
     ]
    }
   ],
   "source": [
    "# Load the points:\n",
    "pc_dir = os.path.join(os.getcwd(), \"test_pointclouds\")\n",
    "files = os.listdir(pc_dir)\n",
    "npy_files = [file for file in files if file.endswith('.npy')]\n",
    "\n",
    "grasp_dict = {}\n",
    "for file in npy_files:\n",
    "    key = os.path.splitext(file)[0]\n",
    "\n",
    "    # Load the points\n",
    "    full_file_name = os.path.join(pc_dir, file)\n",
    "    cropped_points = np.load(full_file_name)\n",
    "\n",
    "    # Run the detector:\n",
    "    grasps, pc_confs = grasp_predictor.detect(cropped_points)\n",
    "    print(f'working on {full_file_name}')\n",
    "    print(cropped_points.shape)\n",
    "    print(len(grasps), pc_confs.shape)\n",
    "\n",
    "    # save the points\n",
    "    filename = os.path.join(pc_dir, f\"{key}_confs.npy\")\n",
    "    np.save(filename, pc_confs)\n",
    "\n",
    "    # Save the conf array:\n",
    "    filename = os.path.join(pc_dir, f\"{key}_grasps.npy\")\n",
    "    confs = np.array([grasp.conf for grasp in grasps])\n",
    "    np.save(filename, confs)"
   ]
  },
  {
   "cell_type": "markdown",
   "metadata": {},
   "source": [
    "## Outside the Container\n"
   ]
  },
  {
   "cell_type": "code",
   "execution_count": 12,
   "metadata": {},
   "outputs": [
    {
     "name": "stdout",
     "output_type": "stream",
     "text": [
      "A_300s\n",
      "(141668, 3)\n"
     ]
    },
    {
     "data": {
      "image/png": "[encoded data removed]",
      "text/plain": [
       "<Figure size 640x480 with 1 Axes>"
      ]
     },
     "metadata": {},
     "output_type": "display_data"
    }
   ],
   "source": [
    "grasps = []\n",
    "for k, v in bbox_dict.items():\n",
    "    if k != 'A_300s':\n",
    "        continue\n",
    "\n",
    "    print(k)\n",
    "    # load the pc_conf\n",
    "    pc_confs_path  = v[\"pc_confs_path_np\"]\n",
    "    pc_confs = np.load(pc_confs_path)\n",
    "    pcd = pc_from_np_array(pc_confs)\n",
    "\n",
    "    # Write the pointcloud as a ply:\n",
    "    print(np.asarray(pcd.points).shape)\n",
    "    o3d.io.write_point_cloud(v[\"pc_confs_path\"], pcd)\n",
    "\n",
    "    # load grasps\n",
    "    grasps_path = v[\"grasps_path\"]\n",
    "    grasp_array = np.load(grasps_path)\n",
    "    grasp_array = grasp_array[grasp_array >= 0.1]\n",
    "\n",
    "    plt.style.use('fivethirtyeight')\n",
    "    plt.hist(grasp_array, bins=30, edgecolor='black')\n",
    "\n",
    "    # Add labels and title\n",
    "    plt.xlabel('Confidence [0.1 - 1]')\n",
    "    plt.ylabel('Frequency')\n",
    "    plt.title(f'{k} - Grasp Confidences')\n",
    "\n",
    "    # Show plot\n",
    "    plt.show()\n"
   ]
  }
 ],
 "metadata": {
  "kernelspec": {
   "display_name": "Python 3 (ipykernel)",
   "language": "python",
   "name": "python3"
  },
  "language_info": {
   "codemirror_mode": {
    "name": "ipython",
    "version": 3
   },
   "file_extension": ".py",
   "mimetype": "text/x-python",
   "name": "python",
   "nbconvert_exporter": "python",
   "pygments_lexer": "ipython3",
   "version": "3.9.15"
  }
 },
 "nbformat": 4,
 "nbformat_minor": 4
}
